{
 "cells": [
  {
   "cell_type": "code",
   "execution_count": 13,
   "id": "0d212cd2-22ee-4914-8524-38d0864fcd22",
   "metadata": {
    "tags": []
   },
   "outputs": [
    {
     "name": "stdout",
     "output_type": "stream",
     "text": [
      "Image is: Fish\n",
      "Fish species: Anthias anthias\n"
     ]
    }
   ],
   "source": [
    "import tensorflow as tf\n",
    "from tensorflow.keras.preprocessing import image\n",
    "from tensorflow.keras.models import Model\n",
    "import os\n",
    "import numpy as np\n",
    "\n",
    "#Getting the names of the classes from the folder names\n",
    "train_dir = 'E:\\Fish\\Species\\Training_Set'\n",
    "class_names = sorted(os.listdir(train_dir))\n",
    "\n",
    "# Load the fish detection model\n",
    "fish_detection_model = tf.keras.models.load_model('fish_detection.h5')\n",
    "\n",
    "# Load the fish classification model\n",
    "fish_classification_model = tf.keras.models.load_model('fish_classification.h5')\n",
    "\n",
    "# Load and preprocess the input image\n",
    "img_path = 'fish.jpg'  # Replace with the actual path of your input image\n",
    "img = image.load_img(img_path, target_size=(224, 224))\n",
    "img = image.img_to_array(img)\n",
    "img = np.expand_dims(img, axis=0)\n",
    "img = img / 255.0  # Normalize the image\n",
    "\n",
    "# Perform fish detection prediction\n",
    "is_not_fish = fish_detection_model.predict(img)\n",
    "\n",
    "is_not_fish_label = 'Not Fish' if is_not_fish > 0.5 else 'Fish'\n",
    "print('Image is:', is_not_fish_label)\n",
    "\n",
    "if is_not_fish < 0.5:\n",
    "    # Perform fish species classification prediction\n",
    "    species_prediction = fish_classification_model.predict(img)\n",
    "    species_index = np.argmax(species_prediction)\n",
    "    species = class_names[species_index]  # class_names is a list of the fish species names\n",
    "    print('Fish species:', species)\n",
    "\n"
   ]
  },
  {
   "cell_type": "code",
   "execution_count": null,
   "id": "988acd74-96f0-49b3-8eb9-2ff3cc8f7d2b",
   "metadata": {},
   "outputs": [],
   "source": []
  }
 ],
 "metadata": {
  "kernelspec": {
   "display_name": "Python 3 (ipykernel)",
   "language": "python",
   "name": "python3"
  },
  "language_info": {
   "codemirror_mode": {
    "name": "ipython",
    "version": 3
   },
   "file_extension": ".py",
   "mimetype": "text/x-python",
   "name": "python",
   "nbconvert_exporter": "python",
   "pygments_lexer": "ipython3",
   "version": "3.9.16"
  }
 },
 "nbformat": 4,
 "nbformat_minor": 5
}
